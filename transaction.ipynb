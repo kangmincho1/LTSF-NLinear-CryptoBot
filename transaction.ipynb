{
 "cells": [
  {
   "cell_type": "code",
   "execution_count": 1,
   "metadata": {},
   "outputs": [],
   "source": [
    "import forecasting\n",
    "\n",
    "import pandas as pd\n",
    "from tqdm import tqdm\n",
    "\n",
    "import datetime\n",
    "import time\n",
    "\n",
    "tickers = ['BTC/USDT','ETH/USDT','NEO/USDT','LTC/USDT',\n",
    "           'ADA/USDT','XRP/USDT','IOTA/USDT','XLM/USDT',\n",
    "           'ONT/USDT','TRX/USDT','ETC/USDT','VET/USDT',\n",
    "           'LINK/USDT','ZEC/USDT','MATIC/USDT','DOGE/USDT']\n",
    "\n",
    "# tickers = forecasting.get_USDT_tickers()\n",
    "# tickers = tickers[:20]"
   ]
  },
  {
   "cell_type": "code",
   "execution_count": 2,
   "metadata": {},
   "outputs": [
    {
     "name": "stdout",
     "output_type": "stream",
     "text": [
      "********************************************************************************** Trade 1 **********************************************************************************\n"
     ]
    },
    {
     "ename": "KeyboardInterrupt",
     "evalue": "",
     "output_type": "error",
     "traceback": [
      "\u001b[1;31m---------------------------------------------------------------------------\u001b[0m",
      "\u001b[1;31mKeyboardInterrupt\u001b[0m                         Traceback (most recent call last)",
      "\u001b[1;32m~\\AppData\\Local\\Temp/ipykernel_102416/2000495405.py\u001b[0m in \u001b[0;36m<module>\u001b[1;34m\u001b[0m\n\u001b[0;32m     12\u001b[0m     \u001b[1;32mfor\u001b[0m \u001b[0mticker\u001b[0m \u001b[1;32min\u001b[0m \u001b[0mtickers\u001b[0m\u001b[1;33m:\u001b[0m\u001b[1;33m\u001b[0m\u001b[1;33m\u001b[0m\u001b[0m\n\u001b[0;32m     13\u001b[0m         \u001b[0mx_train\u001b[0m\u001b[1;33m,\u001b[0m \u001b[0my_train\u001b[0m \u001b[1;33m=\u001b[0m \u001b[0mforecasting\u001b[0m\u001b[1;33m.\u001b[0m\u001b[0mtrainDataGenerator\u001b[0m\u001b[1;33m(\u001b[0m\u001b[0mcrypto_data\u001b[0m\u001b[1;33m=\u001b[0m\u001b[0mcrypto\u001b[0m\u001b[1;33m,\u001b[0m \u001b[0mticker\u001b[0m\u001b[1;33m=\u001b[0m\u001b[0mticker\u001b[0m\u001b[1;33m,\u001b[0m \u001b[0mtest\u001b[0m\u001b[1;33m=\u001b[0m\u001b[1;32mFalse\u001b[0m\u001b[1;33m)\u001b[0m\u001b[1;33m\u001b[0m\u001b[1;33m\u001b[0m\u001b[0m\n\u001b[1;32m---> 14\u001b[1;33m         \u001b[0mfinal_return\u001b[0m \u001b[1;33m=\u001b[0m \u001b[0mforecasting\u001b[0m\u001b[1;33m.\u001b[0m\u001b[0mcryptoNLinear\u001b[0m\u001b[1;33m(\u001b[0m\u001b[0mcrypto\u001b[0m\u001b[1;33m,\u001b[0m \u001b[0mx_train\u001b[0m\u001b[1;33m,\u001b[0m \u001b[0my_train\u001b[0m\u001b[1;33m,\u001b[0m \u001b[0mticker\u001b[0m\u001b[1;33m=\u001b[0m\u001b[0mticker\u001b[0m\u001b[1;33m,\u001b[0m \u001b[0mtest\u001b[0m\u001b[1;33m=\u001b[0m\u001b[1;32mFalse\u001b[0m\u001b[1;33m)\u001b[0m\u001b[1;33m\u001b[0m\u001b[1;33m\u001b[0m\u001b[0m\n\u001b[0m\u001b[0;32m     15\u001b[0m         \u001b[0mresults_df\u001b[0m \u001b[1;33m=\u001b[0m \u001b[0mresults_df\u001b[0m\u001b[1;33m.\u001b[0m\u001b[0mappend\u001b[0m\u001b[1;33m(\u001b[0m\u001b[1;33m{\u001b[0m\u001b[1;34m'암호화폐'\u001b[0m\u001b[1;33m:\u001b[0m \u001b[0mticker\u001b[0m\u001b[1;33m,\u001b[0m \u001b[1;34m'final_return'\u001b[0m\u001b[1;33m:\u001b[0m \u001b[0mfinal_return\u001b[0m\u001b[1;33m}\u001b[0m\u001b[1;33m,\u001b[0m \u001b[0mignore_index\u001b[0m\u001b[1;33m=\u001b[0m\u001b[1;32mTrue\u001b[0m\u001b[1;33m)\u001b[0m\u001b[1;33m\u001b[0m\u001b[1;33m\u001b[0m\u001b[0m\n\u001b[0;32m     16\u001b[0m \u001b[1;33m\u001b[0m\u001b[0m\n",
      "\u001b[1;32mc:\\Users\\choi\\Desktop\\LTSF-NLinear-CryptoBot\\forecasting.py\u001b[0m in \u001b[0;36mcryptoNLinear\u001b[1;34m(crypto_data, X_train, Y_train, ticker, test)\u001b[0m\n\u001b[0;32m    272\u001b[0m             \u001b[0moptimizer\u001b[0m\u001b[1;33m.\u001b[0m\u001b[0mzero_grad\u001b[0m\u001b[1;33m(\u001b[0m\u001b[1;33m)\u001b[0m\u001b[1;33m\u001b[0m\u001b[1;33m\u001b[0m\u001b[0m\n\u001b[0;32m    273\u001b[0m \u001b[1;33m\u001b[0m\u001b[0m\n\u001b[1;32m--> 274\u001b[1;33m             \u001b[0mY_pred\u001b[0m \u001b[1;33m=\u001b[0m \u001b[0mmodel\u001b[0m\u001b[1;33m(\u001b[0m\u001b[0mX_batch\u001b[0m\u001b[1;33m)\u001b[0m\u001b[1;33m\u001b[0m\u001b[1;33m\u001b[0m\u001b[0m\n\u001b[0m\u001b[0;32m    275\u001b[0m             \u001b[0mY_pred\u001b[0m \u001b[1;33m=\u001b[0m \u001b[0mY_pred\u001b[0m\u001b[1;33m.\u001b[0m\u001b[0msqueeze\u001b[0m\u001b[1;33m(\u001b[0m\u001b[1;33m-\u001b[0m\u001b[1;36m1\u001b[0m\u001b[1;33m)\u001b[0m  \u001b[1;31m# 마지막 차원 제거(LTSF-Linear에만 사용)\u001b[0m\u001b[1;33m\u001b[0m\u001b[1;33m\u001b[0m\u001b[0m\n\u001b[0;32m    276\u001b[0m \u001b[1;33m\u001b[0m\u001b[0m\n",
      "\u001b[1;32mc:\\Users\\choi\\anaconda3\\envs\\pytorch\\lib\\site-packages\\torch\\nn\\modules\\module.py\u001b[0m in \u001b[0;36m_call_impl\u001b[1;34m(self, *input, **kwargs)\u001b[0m\n\u001b[0;32m   1049\u001b[0m         if not (self._backward_hooks or self._forward_hooks or self._forward_pre_hooks or _global_backward_hooks\n\u001b[0;32m   1050\u001b[0m                 or _global_forward_hooks or _global_forward_pre_hooks):\n\u001b[1;32m-> 1051\u001b[1;33m             \u001b[1;32mreturn\u001b[0m \u001b[0mforward_call\u001b[0m\u001b[1;33m(\u001b[0m\u001b[1;33m*\u001b[0m\u001b[0minput\u001b[0m\u001b[1;33m,\u001b[0m \u001b[1;33m**\u001b[0m\u001b[0mkwargs\u001b[0m\u001b[1;33m)\u001b[0m\u001b[1;33m\u001b[0m\u001b[1;33m\u001b[0m\u001b[0m\n\u001b[0m\u001b[0;32m   1052\u001b[0m         \u001b[1;31m# Do not call functions when jit is used\u001b[0m\u001b[1;33m\u001b[0m\u001b[1;33m\u001b[0m\u001b[0m\n\u001b[0;32m   1053\u001b[0m         \u001b[0mfull_backward_hooks\u001b[0m\u001b[1;33m,\u001b[0m \u001b[0mnon_full_backward_hooks\u001b[0m \u001b[1;33m=\u001b[0m \u001b[1;33m[\u001b[0m\u001b[1;33m]\u001b[0m\u001b[1;33m,\u001b[0m \u001b[1;33m[\u001b[0m\u001b[1;33m]\u001b[0m\u001b[1;33m\u001b[0m\u001b[1;33m\u001b[0m\u001b[0m\n",
      "\u001b[1;32mc:\\Users\\choi\\Desktop\\LTSF-NLinear-CryptoBot\\forecasting.py\u001b[0m in \u001b[0;36mforward\u001b[1;34m(self, x)\u001b[0m\n\u001b[0;32m    237\u001b[0m         \u001b[1;32mdef\u001b[0m \u001b[0mforward\u001b[0m\u001b[1;33m(\u001b[0m\u001b[0mself\u001b[0m\u001b[1;33m,\u001b[0m \u001b[0mx\u001b[0m\u001b[1;33m)\u001b[0m\u001b[1;33m:\u001b[0m\u001b[1;33m\u001b[0m\u001b[1;33m\u001b[0m\u001b[0m\n\u001b[0;32m    238\u001b[0m             \u001b[0mseq_last\u001b[0m \u001b[1;33m=\u001b[0m \u001b[0mx\u001b[0m\u001b[1;33m[\u001b[0m\u001b[1;33m:\u001b[0m\u001b[1;33m,\u001b[0m\u001b[1;33m-\u001b[0m\u001b[1;36m1\u001b[0m\u001b[1;33m:\u001b[0m\u001b[1;33m,\u001b[0m\u001b[1;33m:\u001b[0m\u001b[1;33m]\u001b[0m\u001b[1;33m.\u001b[0m\u001b[0mdetach\u001b[0m\u001b[1;33m(\u001b[0m\u001b[1;33m)\u001b[0m\u001b[1;33m\u001b[0m\u001b[1;33m\u001b[0m\u001b[0m\n\u001b[1;32m--> 239\u001b[1;33m             \u001b[0mx\u001b[0m \u001b[1;33m=\u001b[0m \u001b[0mx\u001b[0m \u001b[1;33m-\u001b[0m \u001b[0mseq_last\u001b[0m\u001b[1;33m\u001b[0m\u001b[1;33m\u001b[0m\u001b[0m\n\u001b[0m\u001b[0;32m    240\u001b[0m             \u001b[1;32mif\u001b[0m \u001b[0mself\u001b[0m\u001b[1;33m.\u001b[0m\u001b[0mindividual\u001b[0m\u001b[1;33m:\u001b[0m\u001b[1;33m\u001b[0m\u001b[1;33m\u001b[0m\u001b[0m\n\u001b[0;32m    241\u001b[0m                 \u001b[0moutput\u001b[0m \u001b[1;33m=\u001b[0m \u001b[0mtorch\u001b[0m\u001b[1;33m.\u001b[0m\u001b[0mzeros\u001b[0m\u001b[1;33m(\u001b[0m\u001b[1;33m[\u001b[0m\u001b[0mx\u001b[0m\u001b[1;33m.\u001b[0m\u001b[0msize\u001b[0m\u001b[1;33m(\u001b[0m\u001b[1;36m0\u001b[0m\u001b[1;33m)\u001b[0m\u001b[1;33m,\u001b[0m \u001b[0mself\u001b[0m\u001b[1;33m.\u001b[0m\u001b[0mforecast_size\u001b[0m\u001b[1;33m,\u001b[0m \u001b[0mx\u001b[0m\u001b[1;33m.\u001b[0m\u001b[0msize\u001b[0m\u001b[1;33m(\u001b[0m\u001b[1;36m2\u001b[0m\u001b[1;33m)\u001b[0m\u001b[1;33m]\u001b[0m\u001b[1;33m,\u001b[0m\u001b[0mdtype\u001b[0m\u001b[1;33m=\u001b[0m\u001b[0mx\u001b[0m\u001b[1;33m.\u001b[0m\u001b[0mdtype\u001b[0m\u001b[1;33m)\u001b[0m\u001b[1;33m.\u001b[0m\u001b[0mto\u001b[0m\u001b[1;33m(\u001b[0m\u001b[0mx\u001b[0m\u001b[1;33m.\u001b[0m\u001b[0mdevice\u001b[0m\u001b[1;33m)\u001b[0m\u001b[1;33m\u001b[0m\u001b[1;33m\u001b[0m\u001b[0m\n",
      "\u001b[1;31mKeyboardInterrupt\u001b[0m: "
     ]
    }
   ],
   "source": [
    "steps = 5\n",
    "delay = 60 * steps # 1m 일때\n",
    "\n",
    "cumulative_return = 1\n",
    "count = 1\n",
    "\n",
    "while True:\n",
    "    print(f'********************************************************************************** Trade {count} **********************************************************************************')\n",
    "    crypto = forecasting.cryptoGenerator(crypto_list=tickers, feature='close', timeframe='1m', limit=1000) # 시간관계상 1m 으로 test\n",
    "    results_df = pd.DataFrame(columns=['암호화폐', 'final_return'])\n",
    "\n",
    "    for ticker in tickers:\n",
    "        x_train, y_train = forecasting.trainDataGenerator(crypto_data=crypto, ticker=ticker, test=False)\n",
    "        final_return = forecasting.cryptoNLinear(crypto, x_train, y_train, ticker=ticker, test=False)\n",
    "        results_df = results_df.append({'암호화폐': ticker, 'final_return': final_return}, ignore_index=True)\n",
    "\n",
    "    results_df['순위'] = results_df['final_return'].rank(method='first', ascending=False).astype('int') # 각 순위를 중복없이 생성\n",
    "    df_sorted = results_df.sort_values('순위', ascending=True)\n",
    "\n",
    "    long_list = df_sorted[df_sorted['final_return'] > 0]['암호화폐'].to_list()\n",
    "    short_list = df_sorted[df_sorted['final_return'] < 0]['암호화폐'].to_list()\n",
    "\n",
    "    print(f'롱 포트폴리오 구성목록: {long_list}')\n",
    "    print(f'숏 포트폴리오 구성목록: {short_list}')\n",
    "\n",
    "    long_start = forecasting.cryptoGenerator(long_list, 'close', '1m', 3).tail(1)\n",
    "    short_start = forecasting.cryptoGenerator(short_list, 'close', '1m', 3).tail(1)\n",
    "    # print(long_start)\n",
    "    # print(short_start)\n",
    "\n",
    "    current_time = datetime.datetime.now()\n",
    "    formatted_time = current_time.strftime(\"%Y-%m-%d %H:%M:%S\")\n",
    "    print(f'[{formatted_time}] 롱, 숏 포지션 진입')\n",
    "\n",
    "    time.sleep(delay)\n",
    "\n",
    "    long_end = forecasting.cryptoGenerator(long_list, 'close', '1m', 3).tail(1)\n",
    "    short_end = forecasting.cryptoGenerator(short_list, 'close', '1m', 3).tail(1)\n",
    "    # print(long_end)\n",
    "    # print(short_end)\n",
    "\n",
    "    current_time = datetime.datetime.now()\n",
    "    formatted_time = current_time.strftime(\"%Y-%m-%d %H:%M:%S\")\n",
    "    print(f'[{formatted_time}] 롱, 숏 포지션 청산')\n",
    "\n",
    "    long_return = (long_end.reset_index(drop=True) - long_start.reset_index(drop=True)) / long_start.reset_index(drop=True) * 100\n",
    "    short_return = (short_start.reset_index(drop=True) - short_end.reset_index(drop=True)) / short_start.reset_index(drop=True) * 100\n",
    "    # print(long_return)\n",
    "    # print(short_return)\n",
    "\n",
    "    \n",
    "    # 투자 비율은 동일하다고 가정\n",
    "    long_portfolio_return = float(long_return.sum(axis=1))\n",
    "    short_portfolio_return = float(short_return.sum(axis=1))\n",
    "    total_portfolio_return = long_portfolio_return + short_portfolio_return\n",
    "\n",
    "    cumulative_return = cumulative_return * (1 + total_portfolio_return / 100)\n",
    "\n",
    "    print(f'롱 포트폴리오 수익률: {long_portfolio_return:.3f} %')\n",
    "    print(f'숏 포트폴리오 수익률: {short_portfolio_return:.3f} %')\n",
    "    print(f'전체 포트폴리오 수익률: {total_portfolio_return:.3f} %')\n",
    "\n",
    "    print(f'누적 수익률: {((cumulative_return - 1) * 100):.3f} %')\n",
    "\n",
    "    count += 1\n",
    "\n",
    "    if count == 11:\n",
    "        print('가상 거래 시스템 종료')\n",
    "        break"
   ]
  }
 ],
 "metadata": {
  "kernelspec": {
   "display_name": "pytorch",
   "language": "python",
   "name": "pytorch"
  },
  "language_info": {
   "codemirror_mode": {
    "name": "ipython",
    "version": 3
   },
   "file_extension": ".py",
   "mimetype": "text/x-python",
   "name": "python",
   "nbconvert_exporter": "python",
   "pygments_lexer": "ipython3",
   "version": "3.9.7"
  },
  "orig_nbformat": 4
 },
 "nbformat": 4,
 "nbformat_minor": 2
}
